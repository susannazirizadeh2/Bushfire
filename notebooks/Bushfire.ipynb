{
 "cells": [
  {
   "cell_type": "code",
   "execution_count": 10,
   "metadata": {},
   "outputs": [],
   "source": [
    "import pandas as pd\n",
    "import geopandas as gpd\n",
    "import matplotlib.pyplot as plt\n",
    "from shapely.geometry import Point, Polygon\n",
    "import matplotlib.animation as animation\n",
    "import numpy as np\n",
    "import numpy as np\n",
    "import matplotlib.pyplot as plt\n",
    "from matplotlib.animation import FuncAnimation\n",
    "import time \n",
    "\n",
    "from datetime import datetime, timedelta\n",
    "import cartopy.crs as ccrs"
   ]
  },
  {
   "cell_type": "markdown",
   "metadata": {},
   "source": [
    "## Load data"
   ]
  },
  {
   "cell_type": "code",
   "execution_count": 2,
   "metadata": {},
   "outputs": [],
   "source": [
    "df_oct = pd.read_csv(\"../data/DL_FIRE_M6_159160/fire_archive_M6_159160.csv\")\n",
    "df_oct[\"acq_date\"] = pd.to_datetime(df_oct[\"acq_date\"])\n",
    "df_oct[[\"latitude_r\",\"longitude_r\"]] = df_oct[[\"latitude\",\"longitude\"]].round(0)\n",
    "df_oct = df_oct.loc[df_oct.acq_date.dt.month==10]\n",
    "df = pd.read_csv(\"../data/DL_FIRE_M6_172855/fire_archive_M6_172855.csv\")\n",
    "df[\"acq_date\"] = pd.to_datetime(df[\"acq_date\"])\n",
    "df[[\"latitude_r\",\"longitude_r\"]] = df[[\"latitude\",\"longitude\"]].round(0)\n",
    "df = pd.concat([df_oct,df])"
   ]
  },
  {
   "cell_type": "code",
   "execution_count": 3,
   "metadata": {},
   "outputs": [],
   "source": [
    "brightness_sum = df.groupby(['latitude_r','longitude_r','acq_date'],as_index=False)[['brightness']].sum()"
   ]
  },
  {
   "cell_type": "markdown",
   "metadata": {},
   "source": [
    "## Set up formatting for the video files"
   ]
  },
  {
   "cell_type": "code",
   "execution_count": null,
   "metadata": {},
   "outputs": [],
   "source": [
    "Writer = animation.writers['ffmpeg']\n",
    "writer = Writer(fps=15, metadata=dict(artist='Me'), bitrate=1800)"
   ]
  },
  {
   "cell_type": "markdown",
   "metadata": {},
   "source": [
    "## Building Interval for saving video"
   ]
  },
  {
   "cell_type": "code",
   "execution_count": 36,
   "metadata": {},
   "outputs": [],
   "source": [
    "frames=[]\n",
    "interval_length = 10\n",
    "for c in range((end_date - start_date).days):\n",
    "    for interval in range(interval_length):\n",
    "        frames.append(c)"
   ]
  },
  {
   "cell_type": "markdown",
   "metadata": {},
   "source": [
    "## Initialize map"
   ]
  },
  {
   "cell_type": "code",
   "execution_count": null,
   "metadata": {},
   "outputs": [],
   "source": [
    "start_date = datetime(2019, 10, 10)\n",
    "end_date = datetime(2020, 9, 30)\n",
    "fig = plt.figure(figsize=(19.2, 10.8))"
   ]
  },
  {
   "cell_type": "markdown",
   "metadata": {},
   "source": [
    "## Animation Function"
   ]
  },
  {
   "cell_type": "code",
   "execution_count": 40,
   "metadata": {},
   "outputs": [],
   "source": [
    "def animate(days):\n",
    "    fig.clear()\n",
    "    ax = plt.axes(projection=ccrs.PlateCarree())\n",
    "    date = start_date + timedelta(days)\n",
    "    df = brightness_sum.loc[brightness_sum['acq_date']==date]\n",
    "    \n",
    "    longs = df[\"longitude_r\"]\n",
    "    lats = df[\"latitude_r\"]\n",
    "    sizes = df['brightness']/10\n",
    "    \n",
    "    ax.scatter(longs,lats,s=sizes, alpha=0.2,color=\"r\",\n",
    "               transform=ccrs.PlateCarree())\n",
    "\n",
    "    ax.stock_img()\n",
    "    ax.coastlines()\n",
    "    \n",
    "    fontname = 'DejaVu Sans'\n",
    "    fontsize = 25\n",
    "    # Positions for the date and grad counter\n",
    "    date_x = -53\n",
    "    date_y = -50\n",
    "    date_spacing = 80\n",
    "    date = df.iloc[0]['acq_date']\n",
    "    \n",
    "    # Date text\n",
    "    ax.text(date_x, date_y, \n",
    "            f\"{date.strftime('%b %d, %Y')}\", \n",
    "            color='white',\n",
    "            fontname=fontname, fontsize=fontsize*1.3,\n",
    "            transform=ccrs.PlateCarree())\n",
    "    # Total grad counts\n",
    "    ax.text(date_x + date_spacing, date_y, \n",
    "            \"Total Bushfires\", color='white',\n",
    "            fontname=fontname, fontsize=fontsize,\n",
    "            transform=ccrs.PlateCarree())\n",
    "    ax.text(date_x + date_spacing*1.9, date_y, \n",
    "            f\"{df['brightness'].count()}\",\n",
    "            color='white', ha='left',\n",
    "            fontname=fontname, fontsize=fontsize*1.3,\n",
    "            transform=ccrs.PlateCarree())"
   ]
  },
  {
   "cell_type": "code",
   "execution_count": 41,
   "metadata": {
    "scrolled": true
   },
   "outputs": [
    {
     "name": "stderr",
     "output_type": "stream",
     "text": [
      "<ipython-input-40-1e8d13e0869f>:3: MatplotlibDeprecationWarning: Adding an axes using the same arguments as a previous axes currently reuses the earlier instance.  In a future version, a new instance will always be created and returned.  Meanwhile, this warning can be suppressed, and the future behavior ensured, by passing a unique label to each axes instance.\n",
      "  ax = plt.axes(projection=ccrs.PlateCarree())\n"
     ]
    },
    {
     "data": {
      "image/png": "[encoded data removed]",
      "text/plain": [
       "<Figure size 432x288 with 1 Axes>"
      ]
     },
     "metadata": {
      "needs_background": "light"
     },
     "output_type": "display_data"
    }
   ],
   "source": [
    "anim = FuncAnimation(fig, animate, frames=frames,interval=1000)\n",
    "\n",
    "#plt.show()\n",
    "anim.save('../animations/bushfire_animation.mp4', writer=writer)\n",
    "#plt.rcParams['animation.html']= 'jshtml'"
   ]
  },
  {
   "cell_type": "code",
   "execution_count": null,
   "metadata": {},
   "outputs": [],
   "source": []
  }
 ],
 "metadata": {
  "kernelspec": {
   "display_name": "Python 3",
   "language": "python",
   "name": "python3"
  },
  "language_info": {
   "codemirror_mode": {
    "name": "ipython",
    "version": 3
   },
   "file_extension": ".py",
   "mimetype": "text/x-python",
   "name": "python",
   "nbconvert_exporter": "python",
   "pygments_lexer": "ipython3",
   "version": "3.8.5"
  }
 },
 "nbformat": 4,
 "nbformat_minor": 2
}
